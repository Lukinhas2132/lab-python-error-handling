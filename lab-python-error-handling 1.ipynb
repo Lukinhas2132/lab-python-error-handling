{
 "cells": [
  {
   "cell_type": "markdown",
   "id": "25d7736c-ba17-4aff-b6bb-66eba20fbf4e",
   "metadata": {},
   "source": [
    "# Lab | Error Handling"
   ]
  },
  {
   "cell_type": "markdown",
   "id": "bc99b386-7508-47a0-bcdb-d969deaf6c8b",
   "metadata": {},
   "source": [
    "## Exercise: Error Handling for Managing Customer Orders\n",
    "\n",
    "The implementation of your code for managing customer orders assumes that the user will always enter a valid input. \n",
    "\n",
    "For example, we could modify the `initialize_inventory` function to include error handling.\n",
    "   - If the user enters an invalid quantity (e.g., a negative value or a non-numeric value), display an error message and ask them to re-enter the quantity for that product.\n",
    "   - Use a try-except block to handle the error and continue prompting the user until a valid quantity is entered.\n",
    "\n",
    "```python\n",
    "# Step 1: Define the function for initializing the inventory with error handling\n",
    "def initialize_inventory(products):\n",
    "    inventory = {}\n",
    "    for product in products:\n",
    "        valid_quantity = False\n",
    "        while not valid_quantity:\n",
    "            try:\n",
    "                quantity = int(input(f\"Enter the quantity of {product}s available: \"))\n",
    "                if quantity < 0:\n",
    "                    raise ValueError(\"Invalid quantity! Please enter a non-negative value.\")\n",
    "                valid_quantity = True\n",
    "            except ValueError as error:\n",
    "                print(f\"Error: {error}\")\n",
    "        inventory[product] = quantity\n",
    "    return inventory\n",
    "\n",
    "# Or, in another way:\n",
    "\n",
    "def initialize_inventory(products):\n",
    "    inventory = {}\n",
    "    for product in products:\n",
    "        valid_input = False\n",
    "        while not valid_input:\n",
    "            try:\n",
    "                quantity = int(input(f\"Enter the quantity of {product}s available: \"))\n",
    "                if quantity >= 0:\n",
    "                    inventory[product] = quantity\n",
    "                    valid_input = True\n",
    "                else:\n",
    "                    print(\"Quantity cannot be negative. Please enter a valid quantity.\")\n",
    "            except ValueError:\n",
    "                print(\"Invalid input. Please enter a valid quantity.\")\n",
    "    return inventory\n",
    "```\n",
    "\n",
    "Let's enhance your code by implementing error handling to handle invalid inputs.\n",
    "\n",
    "Follow the steps below to complete the exercise:\n",
    "\n",
    "2. Modify the `calculate_total_price` function to include error handling.\n",
    "   - If the user enters an invalid price (e.g., a negative value or a non-numeric value), display an error message and ask them to re-enter the price for that product.\n",
    "   - Use a try-except block to handle the error and continue prompting the user until a valid price is entered.\n",
    "\n",
    "3. Modify the `get_customer_orders` function to include error handling.\n",
    "   - If the user enters an invalid number of orders (e.g., a negative value or a non-numeric value), display an error message and ask them to re-enter the number of orders.\n",
    "   - If the user enters an invalid product name (e.g., a product name that is not in the inventory), or that doesn't have stock available, display an error message and ask them to re-enter the product name. *Hint: you will need to pass inventory as a parameter*\n",
    "   - Use a try-except block to handle the error and continue prompting the user until a valid product name is entered.\n",
    "\n",
    "4. Test your code by running the program and deliberately entering invalid quantities and product names. Make sure the error handling mechanism works as expected.\n"
   ]
  },
  {
   "cell_type": "code",
   "execution_count": 4,
   "id": "aed67a93-8d29-4ed2-9422-89b801faee4b",
   "metadata": {},
   "outputs": [],
   "source": [
    "def get_customer_orders(inventory):\n",
    "    customer_orders = {}\n",
    "    valid_number_of_orders = False\n",
    "    while not valid_number_of_orders:\n",
    "        try:\n",
    "            number_of_orders = int(input(\"Enter the number of different products you want to order: \"))\n",
    "            if number_of_orders < 0:\n",
    "                raise ValueError(\"Number of orders cannot be negative.\")\n",
    "            valid_number_of_orders = True\n",
    "        except ValueError as error:\n",
    "            print(f\"Error: {error}\")\n",
    "\n",
    "    for _ in range(number_of_orders):\n",
    "        valid_product = False\n",
    "        while not valid_product:\n",
    "            product_name = input(\"Enter the product name: \")\n",
    "            if product_name in inventory and inventory[product_name] > 0:\n",
    "                valid_product = True\n",
    "            else:\n",
    "                print(\"Invalid product name or no stock available. Please try again.\")\n",
    "\n",
    "        valid_quantity = False\n",
    "        while not valid_quantity:\n",
    "            try:\n",
    "                quantity = int(input(f\"Enter the quantity of {product_name}: \"))\n",
    "                if quantity < 0 or quantity > inventory[product_name]:\n",
    "                    raise ValueError(\"Quantity is invalid or exceeds available stock.\")\n",
    "                valid_quantity = True\n",
    "            except ValueError as error:\n",
    "                print(f\"Error: {error}\")\n",
    "\n",
    "        customer_orders[product_name] = quantity\n",
    "\n",
    "    return customer_orders\n"
   ]
  },
  {
   "cell_type": "code",
   "execution_count": 7,
   "id": "397db0f9-d8c3-4168-b7b8-d3a91b190322",
   "metadata": {},
   "outputs": [
    {
     "name": "stdout",
     "output_type": "stream",
     "text": [
      "Initialize inventory:\n"
     ]
    },
    {
     "name": "stdin",
     "output_type": "stream",
     "text": [
      "Enter the quantity of apples available:  apple\n"
     ]
    },
    {
     "name": "stdout",
     "output_type": "stream",
     "text": [
      "Error: invalid literal for int() with base 10: 'apple'\n"
     ]
    },
    {
     "name": "stdin",
     "output_type": "stream",
     "text": [
      "Enter the quantity of apples available:  6\n",
      "Enter the quantity of bananas available:  3\n",
      "Enter the quantity of oranges available:  24\n"
     ]
    },
    {
     "name": "stdout",
     "output_type": "stream",
     "text": [
      "\n",
      "Set product prices:\n"
     ]
    },
    {
     "name": "stdin",
     "output_type": "stream",
     "text": [
      "Enter the price of apple:  1.98\n",
      "Enter the price of banana:  2.50\n",
      "Enter the price of orange:  1.50\n"
     ]
    },
    {
     "name": "stdout",
     "output_type": "stream",
     "text": [
      "\n",
      "Place customer orders:\n"
     ]
    },
    {
     "name": "stdin",
     "output_type": "stream",
     "text": [
      "How many orders would you like to place?  2\n",
      "Enter the product name:  banana\n",
      "Enter the quantity of banana you want to order:  6\n"
     ]
    },
    {
     "name": "stdout",
     "output_type": "stream",
     "text": [
      "Only 3 banana(s) are available. Please enter a valid quantity.\n"
     ]
    },
    {
     "name": "stdin",
     "output_type": "stream",
     "text": [
      "Enter the quantity of banana you want to order:  2\n",
      "Enter the product name:  orange\n",
      "Enter the quantity of orange you want to order:  2\n"
     ]
    },
    {
     "name": "stdout",
     "output_type": "stream",
     "text": [
      "\n",
      "Order Summary:\n",
      "Banana: 2 x 2.50 = 5.00\n",
      "Orange: 2 x 1.50 = 3.00\n",
      "Total Cost: 8.00\n"
     ]
    }
   ],
   "source": [
    "def initialize_inventory(products):\n",
    "    inventory = {}\n",
    "    for product in products:\n",
    "        valid_quantity = False\n",
    "        while not valid_quantity:\n",
    "            try:\n",
    "                quantity = int(input(f\"Enter the quantity of {product}s available: \"))\n",
    "                if quantity < 0:\n",
    "                    raise ValueError(\"Invalid quantity! Please enter a non-negative value.\")\n",
    "                valid_quantity = True\n",
    "            except ValueError as error:\n",
    "                print(f\"Error: {error}\")\n",
    "        inventory[product] = quantity\n",
    "    return inventory\n",
    "\n",
    "def calculate_total_price(prices):\n",
    "    total_prices = {}\n",
    "    for product in prices:\n",
    "        valid_price = False\n",
    "        while not valid_price:\n",
    "            try:\n",
    "                price = float(input(f\"Enter the price of {product}: \"))\n",
    "                if price < 0:\n",
    "                    raise ValueError(\"Price cannot be negative. Please enter a valid price.\")\n",
    "                total_prices[product] = price\n",
    "                valid_price = True\n",
    "            except ValueError as error:\n",
    "                print(f\"Error: {error}\")\n",
    "    return total_prices\n",
    "\n",
    "def get_customer_orders(inventory):\n",
    "    orders = {}\n",
    "    while True:\n",
    "        try:\n",
    "            num_orders = int(input(\"How many orders would you like to place? \"))\n",
    "            if num_orders < 0:\n",
    "                raise ValueError(\"Number of orders cannot be negative.\")\n",
    "            break\n",
    "        except ValueError as error:\n",
    "            print(f\"Error: {error}\")\n",
    "\n",
    "    for _ in range(num_orders):\n",
    "        while True:\n",
    "            product = input(\"Enter the product name: \").strip()\n",
    "            if product not in inventory:\n",
    "                print(\"Invalid product name. Please choose from the available inventory.\")\n",
    "                continue\n",
    "            if inventory[product] == 0:\n",
    "                print(f\"Sorry, {product} is out of stock.\")\n",
    "                continue\n",
    "            break\n",
    "        \n",
    "        while True:\n",
    "            try:\n",
    "                quantity = int(input(f\"Enter the quantity of {product} you want to order: \"))\n",
    "                if quantity <= 0:\n",
    "                    raise ValueError(\"Quantity must be greater than zero.\")\n",
    "                if quantity > inventory[product]:\n",
    "                    print(f\"Only {inventory[product]} {product}(s) are available. Please enter a valid quantity.\")\n",
    "                    continue\n",
    "                orders[product] = orders.get(product, 0) + quantity\n",
    "                inventory[product] -= quantity\n",
    "                break\n",
    "            except ValueError as error:\n",
    "                print(f\"Error: {error}\")\n",
    "\n",
    "    return orders\n",
    "\n",
    "def main():\n",
    "    products = ['apple', 'banana', 'orange']\n",
    "    print(\"Initialize inventory:\")\n",
    "    inventory = initialize_inventory(products)\n",
    "    \n",
    "    print(\"\\nSet product prices:\")\n",
    "    prices = calculate_total_price(products)\n",
    "    \n",
    "    print(\"\\nPlace customer orders:\")\n",
    "    orders = get_customer_orders(inventory)\n",
    "    \n",
    "    print(\"\\nOrder Summary:\")\n",
    "    total_cost = 0\n",
    "    for product, quantity in orders.items():\n",
    "        cost = prices[product] * quantity\n",
    "        print(f\"{product.capitalize()}: {quantity} x {prices[product]:.2f} = {cost:.2f}\")\n",
    "        total_cost += cost\n",
    "    \n",
    "    print(f\"Total Cost: {total_cost:.2f}\")\n",
    "\n",
    "if __name__ == \"__main__\":\n",
    "    main()\n"
   ]
  },
  {
   "cell_type": "code",
   "execution_count": null,
   "id": "e1906e8e-0b9e-4ee8-9228-88f1a24649ef",
   "metadata": {},
   "outputs": [
    {
     "name": "stdout",
     "output_type": "stream",
     "text": [
      "Initialize inventory:\n"
     ]
    },
    {
     "name": "stdin",
     "output_type": "stream",
     "text": [
      "Enter the quantity of apples available:  50\n",
      "Enter the quantity of bananas available:  78\n",
      "Enter the quantity of oranges available:  55\n"
     ]
    },
    {
     "name": "stdout",
     "output_type": "stream",
     "text": [
      "\n",
      "Set product prices:\n"
     ]
    },
    {
     "name": "stdin",
     "output_type": "stream",
     "text": [
      "Enter the price of apple:  1.5\n"
     ]
    }
   ],
   "source": [
    "def initialize_inventory(products):\n",
    "    inventory = {}\n",
    "    for product in products:\n",
    "        valid_quantity = False\n",
    "        while not valid_quantity:\n",
    "            try:\n",
    "                quantity = int(input(f\"Enter the quantity of {product}s available: \"))\n",
    "                if quantity < 0:\n",
    "                    raise ValueError(\"Invalid quantity! Please enter a non-negative value.\")\n",
    "                valid_quantity = True\n",
    "            except ValueError as error:\n",
    "                print(f\"Error: {error}\")\n",
    "        inventory[product] = quantity\n",
    "    return inventory\n",
    "\n",
    "def calculate_total_price(prices):\n",
    "    total_prices = {}\n",
    "    for product in prices:\n",
    "        valid_price = False\n",
    "        while not valid_price:\n",
    "            try:\n",
    "                price = float(input(f\"Enter the price of {product}: \"))\n",
    "                if price < 0:\n",
    "                    raise ValueError(\"Price cannot be negative. Please enter a valid price.\")\n",
    "                total_prices[product] = price\n",
    "                valid_price = True\n",
    "            except ValueError as error:\n",
    "                print(f\"Error: {error}\")\n",
    "    return total_prices\n",
    "\n",
    "def get_customer_orders(inventory):\n",
    "    orders = {}\n",
    "    while True:\n",
    "        try:\n",
    "            num_orders = int(input(\"How many orders would you like to place? \"))\n",
    "            if num_orders < 0:\n",
    "                raise ValueError(\"Number of orders cannot be negative.\")\n",
    "            break\n",
    "        except ValueError as error:\n",
    "            print(f\"Error: {error}\")\n",
    "\n",
    "    for _ in range(num_orders):\n",
    "        while True:\n",
    "            product = input(\"Enter the product name: \").strip()\n",
    "            if product not in inventory:\n",
    "                print(\"Invalid product name. Please choose from the available inventory.\")\n",
    "                continue\n",
    "            if inventory[product] == 0:\n",
    "                print(f\"Sorry, {product} is out of stock.\")\n",
    "                continue\n",
    "            break\n",
    "        \n",
    "        while True:\n",
    "            try:\n",
    "                quantity = int(input(f\"Enter the quantity of {product} you want to order: \"))\n",
    "                if quantity <= 0:\n",
    "                    raise ValueError(\"Quantity must be greater than zero.\")\n",
    "                if quantity > inventory[product]:\n",
    "                    print(f\"Only {inventory[product]} {product}(s) are available. Please enter a valid quantity.\")\n",
    "                    continue\n",
    "                orders[product] = orders.get(product, 0) + quantity\n",
    "                inventory[product] -= quantity\n",
    "                break\n",
    "            except ValueError as error:\n",
    "                print(f\"Error: {error}\")\n",
    "\n",
    "    return orders\n",
    "\n",
    "def main():\n",
    "    products = ['apple', 'banana', 'orange']\n",
    "    print(\"Initialize inventory:\")\n",
    "    inventory = initialize_inventory(products)\n",
    "    \n",
    "    print(\"\\nSet product prices:\")\n",
    "    prices = calculate_total_price(products)\n",
    "    \n",
    "    print(\"\\nPlace customer orders:\")\n",
    "    orders = get_customer_orders(inventory)\n",
    "    \n",
    "    print(\"\\nOrder Summary:\")\n",
    "    total_cost = 0\n",
    "    for product, quantity in orders.items():\n",
    "        cost = prices[product] * quantity\n",
    "        print(f\"{product.capitalize()}: {quantity} x {prices[product]:.2f} = {cost:.2f}\")\n",
    "        total_cost += cost\n",
    "    \n",
    "    print(f\"Total Cost: {total_cost:.2f}\")\n",
    "\n",
    "if __name__ == \"__main__\":\n",
    "    main()\n",
    "    \n"
   ]
  },
  {
   "cell_type": "code",
   "execution_count": null,
   "id": "d11cf541-2b01-47de-ad66-825790be2a9b",
   "metadata": {},
   "outputs": [],
   "source": []
  }
 ],
 "metadata": {
  "kernelspec": {
   "display_name": "Python 3 (ipykernel)",
   "language": "python",
   "name": "python3"
  },
  "language_info": {
   "codemirror_mode": {
    "name": "ipython",
    "version": 3
   },
   "file_extension": ".py",
   "mimetype": "text/x-python",
   "name": "python",
   "nbconvert_exporter": "python",
   "pygments_lexer": "ipython3",
   "version": "3.12.4"
  }
 },
 "nbformat": 4,
 "nbformat_minor": 5
}
